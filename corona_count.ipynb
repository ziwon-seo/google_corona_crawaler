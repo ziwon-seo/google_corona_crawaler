{
 "metadata": {
  "language_info": {
   "codemirror_mode": {
    "name": "ipython",
    "version": 3
   },
   "file_extension": ".py",
   "mimetype": "text/x-python",
   "name": "python",
   "nbconvert_exporter": "python",
   "pygments_lexer": "ipython3",
   "version": "3.7.9-final"
  },
  "orig_nbformat": 2,
  "kernelspec": {
   "name": "python3",
   "display_name": "Python 3.7.9 64-bit (conda)",
   "metadata": {
    "interpreter": {
     "hash": "b3ba2566441a7c06988d0923437866b63cedc61552a5af99d1f4fb67d367b25f"
    }
   }
  }
 },
 "nbformat": 4,
 "nbformat_minor": 2,
 "cells": [
  {
   "cell_type": "code",
   "execution_count": 30,
   "metadata": {},
   "outputs": [],
   "source": [
    "from selenium import webdriver\n",
    "from bs4 import BeautifulSoup\n"
   ]
  },
  {
   "cell_type": "code",
   "execution_count": 33,
   "metadata": {
    "tags": []
   },
   "outputs": [
    {
     "output_type": "stream",
     "name": "stdout",
     "text": [
      "[<ol class=\"pdswFd\"></ol>, <ol><li>53회, 2월 20일</li><li>100회, 2월 21일</li><li>229회, 2월 22일</li><li>169회, 2월 23일</li><li>231회, 2월 24일</li><li>144회, 2월 25일</li><li>284회, 2월 26일</li><li>505회, 2월 27일</li><li>571회, 2월 28일</li><li>813회, 2월 29일</li><li>1,062회, 3월 1일</li><li>600회, 3월 2일</li><li>516회, 3월 3일</li><li>438회, 3월 4일</li><li>518회, 3월 5일</li><li>483회, 3월 6일</li><li>367회, 3월 7일</li><li>248회, 3월 8일</li><li>131회, 3월 9일</li><li>242회, 3월 10일</li><li>114회, 3월 11일</li><li>110회, 3월 12일</li><li>107회, 3월 13일</li><li>76회, 3월 14일</li><li>74회, 3월 15일</li><li>84회, 3월 16일</li><li>93회, 3월 17일</li><li>152회, 3월 18일</li><li>87회, 3월 19일</li><li>147회, 3월 20일</li><li>98회, 3월 21일</li><li>64회, 3월 22일</li><li>76회, 3월 23일</li><li>100회, 3월 24일</li><li>104회, 3월 25일</li><li>91회, 3월 26일</li><li>146회, 3월 27일</li><li>105회, 3월 28일</li><li>78회, 3월 29일</li><li>125회, 3월 30일</li><li>101회, 3월 31일</li><li>89회, 4월 1일</li><li>86회, 4월 2일</li><li>94회, 4월 3일</li><li>81회, 4월 4일</li><li>47회, 4월 5일</li><li>47회, 4월 6일</li><li>53회, 4월 7일</li><li>39회, 4월 8일</li><li>27회, 4월 9일</li><li>30회, 4월 10일</li><li>32회, 4월 11일</li><li>25회, 4월 12일</li><li>27회, 4월 13일</li><li>27회, 4월 14일</li><li>22회, 4월 15일</li><li>22회, 4월 16일</li><li>18회, 4월 17일</li><li>8회, 4월 18일</li><li>13회, 4월 19일</li><li>9회, 4월 20일</li><li>11회, 4월 21일</li><li>8회, 4월 22일</li><li>6회, 4월 23일</li><li>10회, 4월 24일</li><li>10회, 4월 25일</li><li>10회, 4월 26일</li><li>14회, 4월 27일</li><li>9회, 4월 28일</li><li>4회, 4월 29일</li><li>9회, 4월 30일</li><li>6회, 5월 1일</li><li>13회, 5월 2일</li><li>8회, 5월 3일</li><li>3회, 5월 4일</li><li>2회, 5월 5일</li><li>4회, 5월 6일</li><li>12회, 5월 7일</li><li>18회, 5월 8일</li><li>34회, 5월 9일</li><li>35회, 5월 10일</li><li>27회, 5월 11일</li><li>26회, 5월 12일</li><li>29회, 5월 13일</li><li>27회, 5월 14일</li><li>19회, 5월 15일</li><li>13회, 5월 16일</li><li>15회, 5월 17일</li><li>13회, 5월 18일</li><li>32회, 5월 19일</li><li>12회, 5월 20일</li><li>20회, 5월 21일</li><li>23회, 5월 22일</li><li>25회, 5월 23일</li><li>16회, 5월 24일</li><li>19회, 5월 25일</li><li>40회, 5월 26일</li><li>79회, 5월 27일</li><li>58회, 5월 28일</li><li>39회, 5월 29일</li><li>27회, 5월 30일</li><li>35회, 5월 31일</li><li>38회, 6월 1일</li><li>49회, 6월 2일</li><li>39회, 6월 3일</li><li>39회, 6월 4일</li><li>51회, 6월 5일</li><li>57회, 6월 6일</li><li>38회, 6월 7일</li><li>38회, 6월 8일</li><li>50회, 6월 9일</li><li>45회, 6월 10일</li><li>56회, 6월 11일</li><li>48회, 6월 12일</li><li>34회, 6월 13일</li><li>36회, 6월 14일</li><li>34회, 6월 15일</li><li>43회, 6월 16일</li><li>59회, 6월 17일</li><li>49회, 6월 18일</li><li>67회, 6월 19일</li><li>48회, 6월 20일</li><li>17회, 6월 21일</li><li>46회, 6월 22일</li><li>51회, 6월 23일</li><li>28회, 6월 24일</li><li>39회, 6월 25일</li><li>51회, 6월 26일</li><li>62회, 6월 27일</li><li>42회, 6월 28일</li><li>43회, 6월 29일</li><li>50회, 6월 30일</li><li>54회, 7월 1일</li><li>63회, 7월 2일</li><li>63회, 7월 3일</li><li>61회, 7월 4일</li><li>46회, 7월 5일</li><li>44회, 7월 6일</li><li>63회, 7월 7일</li><li>49회, 7월 8일</li><li>45회, 7월 9일</li><li>35회, 7월 10일</li><li>44회, 7월 11일</li><li>62회, 7월 12일</li><li>33회, 7월 13일</li><li>39회, 7월 14일</li><li>61회, 7월 15일</li><li>60회, 7월 16일</li><li>39회, 7월 17일</li><li>34회, 7월 18일</li><li>26회, 7월 19일</li><li>45회, 7월 20일</li><li>63회, 7월 21일</li><li>59회, 7월 22일</li><li>41회, 7월 23일</li><li>113회, 7월 24일</li><li>58회, 7월 25일</li><li>25회, 7월 26일</li><li>28회, 7월 27일</li><li>48회, 7월 28일</li><li>18회, 7월 29일</li><li>36회, 7월 30일</li><li>31회, 7월 31일</li><li>30회, 8월 1일</li><li>23회, 8월 2일</li><li>34회, 8월 3일</li><li>33회, 8월 4일</li><li>43회, 8월 5일</li><li>20회, 8월 6일</li><li>43회, 8월 7일</li><li>36회, 8월 8일</li><li>28회, 8월 9일</li><li>34회, 8월 10일</li><li>54회, 8월 11일</li><li>56회, 8월 12일</li><li>103회, 8월 13일</li><li>166회, 8월 14일</li><li>279회, 8월 15일</li><li>197회, 8월 16일</li><li>246회, 8월 17일</li><li>297회, 8월 18일</li><li>288회, 8월 19일</li><li>324회, 8월 20일</li><li>332회, 8월 21일</li><li>397회, 8월 22일</li><li>266회, 8월 23일</li><li>280회, 8월 24일</li><li>320회, 8월 25일</li><li>441회, 8월 26일</li><li>371회, 8월 27일</li><li>323회, 8월 28일</li><li>299회, 8월 29일</li><li>248회, 8월 30일</li><li>235회, 8월 31일</li><li>267회, 9월 1일</li><li>195회, 9월 2일</li><li>198회, 9월 3일</li><li>168회, 9월 4일</li><li>167회, 9월 5일</li><li>119회, 9월 6일</li><li>136회, 9월 7일</li><li>156회, 9월 8일</li><li>155회, 9월 9일</li><li>176회, 9월 10일</li><li>136회, 9월 11일</li><li>121회, 9월 12일</li><li>109회, 9월 13일</li><li>106회, 9월 14일</li><li>113회, 9월 15일</li><li>153회, 9월 16일</li><li>126회, 9월 17일</li><li>110회, 9월 18일</li><li>82회, 9월 19일</li><li>70회, 9월 20일</li><li>61회, 9월 21일</li><li>110회, 9월 22일</li><li>125회, 9월 23일</li><li>114회, 9월 24일</li><li>61회, 9월 25일</li><li>95회, 9월 26일</li><li>50회, 9월 27일</li><li>38회, 9월 28일</li><li>113회, 9월 29일</li><li>77회, 9월 30일</li><li>63회, 10월 1일</li><li>75회, 10월 2일</li><li>64회, 10월 3일</li><li>73회, 10월 4일</li><li>75회, 10월 5일</li><li>114회, 10월 6일</li><li>69회, 10월 7일</li><li>54회, 10월 8일</li><li>72회, 10월 9일</li><li>58회, 10월 10일</li><li>97회, 10월 11일</li><li>102회, 10월 12일</li><li>84회, 10월 13일</li><li>99회, 10월 14일</li><li>47회, 10월 15일</li><li>73회, 10월 16일</li><li>91회, 10월 17일</li><li>76회, 10월 18일</li><li>58회, 10월 19일</li><li>91회, 10월 20일</li><li>119회, 10월 21일</li><li>155회, 10월 22일</li><li>77회, 10월 23일</li><li>61회, 10월 24일</li><li>119회, 10월 25일</li><li>88회, 10월 26일</li><li>103회, 10월 27일</li><li>125회, 10월 28일</li><li>114회, 10월 29일</li><li>126회, 10월 30일</li><li>124회, 10월 31일</li><li>97회, 11월 1일</li><li>75회, 11월 2일</li><li>118회, 11월 3일</li><li>125회, 11월 4일</li><li>145회, 11월 5일</li><li>89회, 11월 6일</li><li>143회, 11월 7일</li><li>126회, 11월 8일</li><li>100회, 11월 9일</li><li>146회, 11월 10일</li><li>143회, 11월 11일</li><li>191회, 11월 12일</li><li>205회, 11월 13일</li><li>208회, 11월 14일</li><li>223회, 11월 15일</li><li>229회, 11월 16일</li><li>313회, 11월 17일</li><li>343회, 11월 18일</li><li>363회, 11월 19일</li><li>386회, 11월 20일</li><li>330회, 11월 21일</li><li>271회, 11월 22일</li><li>349회, 11월 23일</li><li>382회, 11월 24일</li><li>583회, 11월 25일</li><li>569회, 11월 26일</li><li>488회, 11월 27일</li><li>449회, 11월 28일</li><li>377회, 11월 29일</li><li>451회, 11월 30일</li><li>511회, 12월 1일</li><li>540회, 12월 2일</li><li>629회, 12월 3일</li><li>583회, 12월 4일</li><li>631회, 12월 5일</li><li>615회, 12월 6일</li><li>594회, 12월 7일</li><li>677회, 12월 8일</li></ol>, <ol class=\"action-menu-panel\" data-ved=\"2ahUKEwicx8bH4L_tAhULBZQKHQWVAKYQqR8wA3oECAcQBA\" jsaction=\"keydown:Xiq7wd;mouseover:pKPowd;mouseout:O9bKS\" role=\"menu\" tabindex=\"-1\"><li class=\"action-menu-item\" role=\"menuitem\"><a class=\"fl\" href=\"http://webcache.googleusercontent.com/search?q=cache:NieSOpVwRZEJ:ncov.mohw.go.kr/+&amp;cd=4&amp;hl=ko&amp;ct=clnk&amp;gl=kr\" ping=\"/url?sa=t&amp;source=web&amp;rct=j&amp;url=http://webcache.googleusercontent.com/search%3Fq%3Dcache:NieSOpVwRZEJ:ncov.mohw.go.kr/%2B%26cd%3D4%26hl%3Dko%26ct%3Dclnk%26gl%3Dkr&amp;ved=2ahUKEwicx8bH4L_tAhULBZQKHQWVAKYQIDADegQIBxAF\"><span>저장된 페이지</span></a></li></ol>, <ol class=\"action-menu-panel\" data-ved=\"2ahUKEwicx8bH4L_tAhULBZQKHQWVAKYQqR8wBHoECA0QBg\" jsaction=\"keydown:Xiq7wd;mouseover:pKPowd;mouseout:O9bKS\" role=\"menu\" tabindex=\"-1\"><li class=\"action-menu-item\" role=\"menuitem\"><a class=\"fl\" href=\"http://webcache.googleusercontent.com/search?q=cache:4cSe_HipTsUJ:ncov.mohw.go.kr/bdBoardList.do%3FbrdId%3D1%26brdGubun%3D11+&amp;cd=5&amp;hl=ko&amp;ct=clnk&amp;gl=kr\" ping=\"/url?sa=t&amp;source=web&amp;rct=j&amp;url=http://webcache.googleusercontent.com/search%3Fq%3Dcache:4cSe_HipTsUJ:ncov.mohw.go.kr/bdBoardList.do%253FbrdId%253D1%2526brdGubun%253D11%2B%26cd%3D5%26hl%3Dko%26ct%3Dclnk%26gl%3Dkr&amp;ved=2ahUKEwicx8bH4L_tAhULBZQKHQWVAKYQIDAEegQIDRAH\"><span>저장된 페이지</span></a></li></ol>, <ol class=\"action-menu-panel\" data-ved=\"2ahUKEwicx8bH4L_tAhULBZQKHQWVAKYQqR8wEnoECAQQBg\" jsaction=\"keydown:Xiq7wd;mouseover:pKPowd;mouseout:O9bKS\" role=\"menu\" tabindex=\"-1\"><li class=\"action-menu-item\" role=\"menuitem\"><a class=\"fl\" href=\"https://webcache.googleusercontent.com/search?q=cache:0MotR1zWwMUJ:https://www.gwangju.go.kr/c19/contentsView.do%3FpageId%3Dcorona2+&amp;cd=19&amp;hl=ko&amp;ct=clnk&amp;gl=kr\" ping=\"/url?sa=t&amp;source=web&amp;rct=j&amp;url=https://webcache.googleusercontent.com/search%3Fq%3Dcache:0MotR1zWwMUJ:https://www.gwangju.go.kr/c19/contentsView.do%253FpageId%253Dcorona2%2B%26cd%3D19%26hl%3Dko%26ct%3Dclnk%26gl%3Dkr&amp;ved=2ahUKEwicx8bH4L_tAhULBZQKHQWVAKYQIDASegQIBBAH\"><span>저장된 페이지</span></a></li></ol>, <ol class=\"action-menu-panel\" data-ved=\"2ahUKEwicx8bH4L_tAhULBZQKHQWVAKYQqR8wE3oECAMQBg\" jsaction=\"keydown:Xiq7wd;mouseover:pKPowd;mouseout:O9bKS\" role=\"menu\" tabindex=\"-1\"><li class=\"action-menu-item\" role=\"menuitem\"><a class=\"fl\" href=\"https://webcache.googleusercontent.com/search?q=cache:825KSpsDXqEJ:https://www.gwangju.go.kr/c19/+&amp;cd=20&amp;hl=ko&amp;ct=clnk&amp;gl=kr\" ping=\"/url?sa=t&amp;source=web&amp;rct=j&amp;url=https://webcache.googleusercontent.com/search%3Fq%3Dcache:825KSpsDXqEJ:https://www.gwangju.go.kr/c19/%2B%26cd%3D20%26hl%3Dko%26ct%3Dclnk%26gl%3Dkr&amp;ved=2ahUKEwicx8bH4L_tAhULBZQKHQWVAKYQIDATegQIAxAH\"><span>저장된 페이지</span></a></li></ol>, <ol class=\"action-menu-panel\" data-ved=\"2ahUKEwicx8bH4L_tAhULBZQKHQWVAKYQqR8wFHoECA4QBg\" jsaction=\"keydown:Xiq7wd;mouseover:pKPowd;mouseout:O9bKS\" role=\"menu\" tabindex=\"-1\"><li class=\"action-menu-item\" role=\"menuitem\"><a class=\"fl\" href=\"https://webcache.googleusercontent.com/search?q=cache:M61jXepbyBgJ:https://www.seoul.go.kr/coronaV/coronaStatus.do+&amp;cd=21&amp;hl=ko&amp;ct=clnk&amp;gl=kr\" ping=\"/url?sa=t&amp;source=web&amp;rct=j&amp;url=https://webcache.googleusercontent.com/search%3Fq%3Dcache:M61jXepbyBgJ:https://www.seoul.go.kr/coronaV/coronaStatus.do%2B%26cd%3D21%26hl%3Dko%26ct%3Dclnk%26gl%3Dkr&amp;ved=2ahUKEwicx8bH4L_tAhULBZQKHQWVAKYQIDAUegQIDhAH\"><span>저장된 페이지</span></a></li></ol>, <ol class=\"action-menu-panel\" data-ved=\"2ahUKEwicx8bH4L_tAhULBZQKHQWVAKYQqR8wFXoECAYQBg\" jsaction=\"keydown:Xiq7wd;mouseover:pKPowd;mouseout:O9bKS\" role=\"menu\" tabindex=\"-1\"><li class=\"action-menu-item\" role=\"menuitem\"><a class=\"fl\" href=\"http://webcache.googleusercontent.com/search?q=cache:t5VSouBrB1sJ:covid19.daegu.go.kr/00937400.html+&amp;cd=22&amp;hl=ko&amp;ct=clnk&amp;gl=kr\" ping=\"/url?sa=t&amp;source=web&amp;rct=j&amp;url=http://webcache.googleusercontent.com/search%3Fq%3Dcache:t5VSouBrB1sJ:covid19.daegu.go.kr/00937400.html%2B%26cd%3D22%26hl%3Dko%26ct%3Dclnk%26gl%3Dkr&amp;ved=2ahUKEwicx8bH4L_tAhULBZQKHQWVAKYQIDAVegQIBhAH\"><span>저장된 페이지</span></a></li></ol>, <ol class=\"action-menu-panel\" data-ved=\"2ahUKEwicx8bH4L_tAhULBZQKHQWVAKYQqR8wFnoECA8QBA\" jsaction=\"keydown:Xiq7wd;mouseover:pKPowd;mouseout:O9bKS\" role=\"menu\" tabindex=\"-1\"><li class=\"action-menu-item\" role=\"menuitem\"><a class=\"fl\" href=\"https://webcache.googleusercontent.com/search?q=cache:rEzCXGy-xdIJ:https://corona.seongnam.go.kr/+&amp;cd=23&amp;hl=ko&amp;ct=clnk&amp;gl=kr\" ping=\"/url?sa=t&amp;source=web&amp;rct=j&amp;url=https://webcache.googleusercontent.com/search%3Fq%3Dcache:rEzCXGy-xdIJ:https://corona.seongnam.go.kr/%2B%26cd%3D23%26hl%3Dko%26ct%3Dclnk%26gl%3Dkr&amp;ved=2ahUKEwicx8bH4L_tAhULBZQKHQWVAKYQIDAWegQIDxAF\"><span>저장된 페이지</span></a></li></ol>]\n"
     ]
    }
   ],
   "source": [
    "driver = webdriver.Chrome('D:\\development\\crawler\\chromedriver.exe')\n",
    "search_key = '코로나 확진자'\n",
    "url = 'https://www.google.com/search?q={}'.format(search_key)\n",
    "driver.get(url)\n",
    "\n",
    "html = driver.page_source\n",
    "soup = BeautifulSoup(html,'html.parser')\n",
    "soup = soup.findAll(\"ol\")\n",
    "print(soup)\n",
    "\n"
   ]
  },
  {
   "cell_type": "code",
   "execution_count": 34,
   "metadata": {},
   "outputs": [
    {
     "output_type": "stream",
     "name": "stdout",
     "text": [
      "53회, 2월 20일 \n100회, 2월 21일 \n229회, 2월 22일 \n169회, 2월 23일 \n231회, 2월 24일 \n144회, 2월 25일 \n284회, 2월 26일 \n505회, 2월 27일 \n571회, 2월 28일 \n813회, 2월 29일 \n1,062회, 3월 1일 \n600회, 3월 2일 \n516회, 3월 3일 \n438회, 3월 4일 \n518회, 3월 5일 \n483회, 3월 6일 \n367회, 3월 7일 \n248회, 3월 8일 \n131회, 3월 9일 \n242회, 3월 10일 \n114회, 3월 11일 \n110회, 3월 12일 \n107회, 3월 13일 \n76회, 3월 14일 \n74회, 3월 15일 \n84회, 3월 16일 \n93회, 3월 17일 \n152회, 3월 18일 \n87회, 3월 19일 \n147회, 3월 20일 \n98회, 3월 21일 \n64회, 3월 22일 \n76회, 3월 23일 \n100회, 3월 24일 \n104회, 3월 25일 \n91회, 3월 26일 \n146회, 3월 27일 \n105회, 3월 28일 \n78회, 3월 29일 \n125회, 3월 30일 \n101회, 3월 31일 \n89회, 4월 1일 \n86회, 4월 2일 \n94회, 4월 3일 \n81회, 4월 4일 \n47회, 4월 5일 \n47회, 4월 6일 \n53회, 4월 7일 \n39회, 4월 8일 \n27회, 4월 9일 \n30회, 4월 10일 \n32회, 4월 11일 \n25회, 4월 12일 \n27회, 4월 13일 \n27회, 4월 14일 \n22회, 4월 15일 \n22회, 4월 16일 \n18회, 4월 17일 \n8회, 4월 18일 \n13회, 4월 19일 \n9회, 4월 20일 \n11회, 4월 21일 \n8회, 4월 22일 \n6회, 4월 23일 \n10회, 4월 24일 \n10회, 4월 25일 \n10회, 4월 26일 \n14회, 4월 27일 \n9회, 4월 28일 \n4회, 4월 29일 \n9회, 4월 30일 \n6회, 5월 1일 \n13회, 5월 2일 \n8회, 5월 3일 \n3회, 5월 4일 \n2회, 5월 5일 \n4회, 5월 6일 \n12회, 5월 7일 \n18회, 5월 8일 \n34회, 5월 9일 \n35회, 5월 10일 \n27회, 5월 11일 \n26회, 5월 12일 \n29회, 5월 13일 \n27회, 5월 14일 \n19회, 5월 15일 \n13회, 5월 16일 \n15회, 5월 17일 \n13회, 5월 18일 \n32회, 5월 19일 \n12회, 5월 20일 \n20회, 5월 21일 \n23회, 5월 22일 \n25회, 5월 23일 \n16회, 5월 24일 \n19회, 5월 25일 \n40회, 5월 26일 \n79회, 5월 27일 \n58회, 5월 28일 \n39회, 5월 29일 \n27회, 5월 30일 \n35회, 5월 31일 \n38회, 6월 1일 \n49회, 6월 2일 \n39회, 6월 3일 \n39회, 6월 4일 \n51회, 6월 5일 \n57회, 6월 6일 \n38회, 6월 7일 \n38회, 6월 8일 \n50회, 6월 9일 \n45회, 6월 10일 \n56회, 6월 11일 \n48회, 6월 12일 \n34회, 6월 13일 \n36회, 6월 14일 \n34회, 6월 15일 \n43회, 6월 16일 \n59회, 6월 17일 \n49회, 6월 18일 \n67회, 6월 19일 \n48회, 6월 20일 \n17회, 6월 21일 \n46회, 6월 22일 \n51회, 6월 23일 \n28회, 6월 24일 \n39회, 6월 25일 \n51회, 6월 26일 \n62회, 6월 27일 \n42회, 6월 28일 \n43회, 6월 29일 \n50회, 6월 30일 \n54회, 7월 1일 \n63회, 7월 2일 \n63회, 7월 3일 \n61회, 7월 4일 \n46회, 7월 5일 \n44회, 7월 6일 \n63회, 7월 7일 \n49회, 7월 8일 \n45회, 7월 9일 \n35회, 7월 10일 \n44회, 7월 11일 \n62회, 7월 12일 \n33회, 7월 13일 \n39회, 7월 14일 \n61회, 7월 15일 \n60회, 7월 16일 \n39회, 7월 17일 \n34회, 7월 18일 \n26회, 7월 19일 \n45회, 7월 20일 \n63회, 7월 21일 \n59회, 7월 22일 \n41회, 7월 23일 \n113회, 7월 24일 \n58회, 7월 25일 \n25회, 7월 26일 \n28회, 7월 27일 \n48회, 7월 28일 \n18회, 7월 29일 \n36회, 7월 30일 \n31회, 7월 31일 \n30회, 8월 1일 \n23회, 8월 2일 \n34회, 8월 3일 \n33회, 8월 4일 \n43회, 8월 5일 \n20회, 8월 6일 \n43회, 8월 7일 \n36회, 8월 8일 \n28회, 8월 9일 \n34회, 8월 10일 \n54회, 8월 11일 \n56회, 8월 12일 \n103회, 8월 13일 \n166회, 8월 14일 \n279회, 8월 15일 \n197회, 8월 16일 \n246회, 8월 17일 \n297회, 8월 18일 \n288회, 8월 19일 \n324회, 8월 20일 \n332회, 8월 21일 \n397회, 8월 22일 \n266회, 8월 23일 \n280회, 8월 24일 \n320회, 8월 25일 \n441회, 8월 26일 \n371회, 8월 27일 \n323회, 8월 28일 \n299회, 8월 29일 \n248회, 8월 30일 \n235회, 8월 31일 \n267회, 9월 1일 \n195회, 9월 2일 \n198회, 9월 3일 \n168회, 9월 4일 \n167회, 9월 5일 \n119회, 9월 6일 \n136회, 9월 7일 \n156회, 9월 8일 \n155회, 9월 9일 \n176회, 9월 10일 \n136회, 9월 11일 \n121회, 9월 12일 \n109회, 9월 13일 \n106회, 9월 14일 \n113회, 9월 15일 \n153회, 9월 16일 \n126회, 9월 17일 \n110회, 9월 18일 \n82회, 9월 19일 \n70회, 9월 20일 \n61회, 9월 21일 \n110회, 9월 22일 \n125회, 9월 23일 \n114회, 9월 24일 \n61회, 9월 25일 \n95회, 9월 26일 \n50회, 9월 27일 \n38회, 9월 28일 \n113회, 9월 29일 \n77회, 9월 30일 \n63회, 10월 1일 \n75회, 10월 2일 \n64회, 10월 3일 \n73회, 10월 4일 \n75회, 10월 5일 \n114회, 10월 6일 \n69회, 10월 7일 \n54회, 10월 8일 \n72회, 10월 9일 \n58회, 10월 10일 \n97회, 10월 11일 \n102회, 10월 12일 \n84회, 10월 13일 \n99회, 10월 14일 \n47회, 10월 15일 \n73회, 10월 16일 \n91회, 10월 17일 \n76회, 10월 18일 \n58회, 10월 19일 \n91회, 10월 20일 \n119회, 10월 21일 \n155회, 10월 22일 \n77회, 10월 23일 \n61회, 10월 24일 \n119회, 10월 25일 \n88회, 10월 26일 \n103회, 10월 27일 \n125회, 10월 28일 \n114회, 10월 29일 \n126회, 10월 30일 \n124회, 10월 31일 \n97회, 11월 1일 \n75회, 11월 2일 \n118회, 11월 3일 \n125회, 11월 4일 \n145회, 11월 5일 \n89회, 11월 6일 \n143회, 11월 7일 \n126회, 11월 8일 \n100회, 11월 9일 \n146회, 11월 10일 \n143회, 11월 11일 \n191회, 11월 12일 \n205회, 11월 13일 \n208회, 11월 14일 \n223회, 11월 15일 \n229회, 11월 16일 \n313회, 11월 17일 \n343회, 11월 18일 \n363회, 11월 19일 \n386회, 11월 20일 \n330회, 11월 21일 \n271회, 11월 22일 \n349회, 11월 23일 \n382회, 11월 24일 \n583회, 11월 25일 \n569회, 11월 26일 \n488회, 11월 27일 \n449회, 11월 28일 \n377회, 11월 29일 \n451회, 11월 30일 \n511회, 12월 1일 \n540회, 12월 2일 \n629회, 12월 3일 \n583회, 12월 4일 \n631회, 12월 5일 \n615회, 12월 6일 \n594회, 12월 7일 \n677회, 12월 8일 \n\n"
     ]
    }
   ],
   "source": [
    "all_count = soup[1].text\n",
    "print(all_count.replace(\"일\",\"일 \\n\"))\n"
   ]
  },
  {
   "cell_type": "code",
   "execution_count": null,
   "metadata": {},
   "outputs": [],
   "source": []
  }
 ]
}